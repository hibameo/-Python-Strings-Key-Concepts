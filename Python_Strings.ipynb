{
  "nbformat": 4,
  "nbformat_minor": 0,
  "metadata": {
    "colab": {
      "provenance": [],
      "authorship_tag": "ABX9TyPIXoffPtMy9Cx2pQcBqrwj",
      "include_colab_link": true
    },
    "kernelspec": {
      "name": "python3",
      "display_name": "Python 3"
    },
    "language_info": {
      "name": "python"
    }
  },
  "cells": [
    {
      "cell_type": "markdown",
      "metadata": {
        "id": "view-in-github",
        "colab_type": "text"
      },
      "source": [
        "<a href=\"https://colab.research.google.com/github/hibameo/-Python-Strings-Key-Concepts/blob/main/Python_Strings.ipynb\" target=\"_parent\"><img src=\"https://colab.research.google.com/assets/colab-badge.svg\" alt=\"Open In Colab\"/></a>"
      ]
    },
    {
      "cell_type": "markdown",
      "source": [
        "# Python Strings: Key Concepts\n",
        "\n",
        "## Overview\n",
        "This repository contains essential information about Python strings, covering key concepts, methods, and operations.\n",
        "\n",
        "## 20 Key Points about Strings in Python\n",
        "\n",
        "- **Strings are Immutable:** Once created, a string's contents cannot be changed.\n",
        "- **String Literals:** Strings are created using single (' '), double (\" \"), or triple (''' ''' or \"\"\" \"\"\") quotes.\n",
        "- **Indexing:** Individual characters in a string can be accessed using zero-based indexing (e.g., `string[0]`).\n",
        "- **Slicing:** Substrings can be extracted using slicing (e.g., `string[1:5]`).\n",
        "- **String Concatenation:** Strings can be joined together using the `+` operator.\n",
        "- **String Repetition:** Strings can be repeated using the `*` operator.\n",
        "- **Escape Sequences:** Special characters can be included using escape sequences (e.g., `\\n` for newline, `\\t` for tab).\n",
        "- **String Length:** The `len()` function returns the number of characters in a string.\n",
        "- **String Methods:** Python provides numerous built-in string methods for various operations.\n",
        "- **`lower()` and `upper()`:** Convert strings to lowercase and uppercase, respectively.\n",
        "- **`strip()`:** Removes leading and trailing whitespace.\n",
        "- **`find()` and `index()`:** Locate substrings within a string.\n",
        "- **`replace()`:** Replaces substrings with other strings.\n",
        "- **`split()`:** Splits a string into a list of substrings based on a delimiter.\n",
        "- **`join()`:** Joins a list of strings into a single string.\n",
        "- **String Formatting:** Python offers various ways to format strings (e.g., f-strings, `format()` method).\n",
        "- **f-strings (Formatted String Literals):** Provide a concise way to embed expressions within string literals.\n",
        "- **`in` and `not in` Operators:** Used to check if a substring is present in a string.\n",
        "- **Character Encoding:** Strings can be encoded and decoded using different character encodings (e.g., UTF-8).\n",
        "- **String Comparisons:** Strings can be compared using standard comparison operators (`==`, `!=`, `<`, `>`, `<=`, `>=`).\n",
        "\n"
      ],
      "metadata": {
        "id": "FfO_GAxsyJpE"
      }
    }
  ]
}